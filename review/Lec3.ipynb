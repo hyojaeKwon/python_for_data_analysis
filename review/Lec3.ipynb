{
 "cells": [
  {
   "cell_type": "code",
   "execution_count": 1,
   "metadata": {},
   "outputs": [],
   "source": [
    "a = 10>5\n",
    "b = 5>10"
   ]
  },
  {
   "cell_type": "code",
   "execution_count": 2,
   "metadata": {},
   "outputs": [
    {
     "data": {
      "text/plain": [
       "False"
      ]
     },
     "execution_count": 2,
     "metadata": {},
     "output_type": "execute_result"
    }
   ],
   "source": [
    "a and b"
   ]
  },
  {
   "cell_type": "code",
   "execution_count": 3,
   "metadata": {},
   "outputs": [
    {
     "data": {
      "text/plain": [
       "True"
      ]
     },
     "execution_count": 3,
     "metadata": {},
     "output_type": "execute_result"
    }
   ],
   "source": [
    "a or b"
   ]
  },
  {
   "cell_type": "code",
   "execution_count": 4,
   "metadata": {},
   "outputs": [],
   "source": [
    "BMI=10"
   ]
  },
  {
   "cell_type": "code",
   "execution_count": 5,
   "metadata": {},
   "outputs": [
    {
     "name": "stdout",
     "output_type": "stream",
     "text": [
      "You are normal\n"
     ]
    }
   ],
   "source": [
    "if BMI>=30:\n",
    "    print(\"You are obesity\")\n",
    "elif BMI>=25:\n",
    "    print(\"You are overweight\")\n",
    "else:\n",
    "    print(\"You are normal\")"
   ]
  },
  {
   "cell_type": "code",
   "execution_count": 6,
   "metadata": {},
   "outputs": [],
   "source": [
    "BMI=28"
   ]
  },
  {
   "cell_type": "code",
   "execution_count": 7,
   "metadata": {},
   "outputs": [
    {
     "name": "stdout",
     "output_type": "stream",
     "text": [
      "You are overweight\n"
     ]
    }
   ],
   "source": [
    "if BMI>=30:\n",
    "    print(\"You are obesity\")\n",
    "elif BMI>=25:\n",
    "    print(\"You are overweight\")\n",
    "else:\n",
    "    print(\"You are normal\")"
   ]
  },
  {
   "cell_type": "code",
   "execution_count": 8,
   "metadata": {},
   "outputs": [],
   "source": [
    "BMI=33"
   ]
  },
  {
   "cell_type": "code",
   "execution_count": 9,
   "metadata": {},
   "outputs": [
    {
     "name": "stdout",
     "output_type": "stream",
     "text": [
      "You are obesity\n"
     ]
    }
   ],
   "source": [
    "if BMI>=30:\n",
    "    print(\"You are obesity\")\n",
    "elif BMI>=25:\n",
    "    print(\"You are overweight\")\n",
    "else:\n",
    "    print(\"You are normal\")"
   ]
  },
  {
   "cell_type": "code",
   "execution_count": 10,
   "metadata": {},
   "outputs": [
    {
     "name": "stdout",
     "output_type": "stream",
     "text": [
      "please input the number:44\n",
      "0.22727272727272727\n"
     ]
    }
   ],
   "source": [
    "try:\n",
    "    x=int(input(\"please input the number:\"))\n",
    "    y=10/x\n",
    "    print(y)\n",
    "except ZeroDivisionError:\n",
    "    print(\"do not divide with zero\")\n",
    "except ValueError:\n",
    "    print(\"do not input the character type\")"
   ]
  },
  {
   "cell_type": "code",
   "execution_count": 11,
   "metadata": {},
   "outputs": [
    {
     "name": "stdout",
     "output_type": "stream",
     "text": [
      "please input the number:0\n",
      "do not divide with zero\n"
     ]
    }
   ],
   "source": [
    "try:\n",
    "    x=int(input(\"please input the number:\"))\n",
    "    y=10/x\n",
    "    print(y)\n",
    "except ZeroDivisionError:\n",
    "    print(\"do not divide with zero\")\n",
    "except ValueError:\n",
    "    print(\"do not input the character type\")"
   ]
  },
  {
   "cell_type": "code",
   "execution_count": 12,
   "metadata": {},
   "outputs": [
    {
     "name": "stdout",
     "output_type": "stream",
     "text": [
      "please input the number:int\n",
      "do not input the character type\n"
     ]
    }
   ],
   "source": [
    "try:\n",
    "    x=int(input(\"please input the number:\"))\n",
    "    y=10/x\n",
    "    print(y)\n",
    "except ZeroDivisionError:\n",
    "    print(\"do not divide with zero\")\n",
    "except ValueError:\n",
    "    print(\"do not input the character type\")"
   ]
  },
  {
   "cell_type": "code",
   "execution_count": 13,
   "metadata": {},
   "outputs": [
    {
     "name": "stdout",
     "output_type": "stream",
     "text": [
      "0 1 2 3 4 5 6 7 8 9 "
     ]
    }
   ],
   "source": [
    "for x in [0, 1, 2, 3, 4, 5, 6, 7, 8, 9]:\n",
    "    print(x, end=\" \")"
   ]
  },
  {
   "cell_type": "code",
   "execution_count": 14,
   "metadata": {},
   "outputs": [
    {
     "name": "stdout",
     "output_type": "stream",
     "text": [
      "45\n"
     ]
    }
   ],
   "source": [
    "sum = 0\n",
    "for x in range(0, 10):\n",
    "    sum = sum + x\n",
    "print(sum)"
   ]
  },
  {
   "cell_type": "code",
   "execution_count": 15,
   "metadata": {},
   "outputs": [
    {
     "name": "stdout",
     "output_type": "stream",
     "text": [
      "**********\n",
      "**********\n",
      "**********\n",
      "**********\n",
      "**********\n"
     ]
    }
   ],
   "source": [
    "for y in range(5):\n",
    "    for x in range(10):\n",
    "        print(\"*\", end=\"\")\n",
    "    print()"
   ]
  },
  {
   "cell_type": "code",
   "execution_count": 16,
   "metadata": {},
   "outputs": [
    {
     "name": "stdout",
     "output_type": "stream",
     "text": [
      "sum= 55\n"
     ]
    }
   ],
   "source": [
    "n = 1\n",
    "sum = 0\n",
    "while n<=10:\n",
    "    sum = sum + n\n",
    "    n = n + 1\n",
    "print(\"sum=\", sum)"
   ]
  },
  {
   "cell_type": "code",
   "execution_count": 17,
   "metadata": {},
   "outputs": [],
   "source": [
    "def deci2bin(n):\n",
    "    b=0\n",
    "    while n>=0:\n",
    "        i=0\n",
    "        while 2**(i+1)<=n:\n",
    "            i+=1\n",
    "        b=b+10**i\n",
    "        n=n-2**i\n",
    "    print(b-1)"
   ]
  },
  {
   "cell_type": "code",
   "execution_count": 18,
   "metadata": {},
   "outputs": [
    {
     "name": "stdout",
     "output_type": "stream",
     "text": [
      "100000\n"
     ]
    }
   ],
   "source": [
    "deci2bin(32)"
   ]
  },
  {
   "cell_type": "code",
   "execution_count": 19,
   "metadata": {},
   "outputs": [
    {
     "name": "stdout",
     "output_type": "stream",
     "text": [
      "10101\n"
     ]
    }
   ],
   "source": [
    "deci2bin(21)"
   ]
  },
  {
   "cell_type": "code",
   "execution_count": 20,
   "metadata": {},
   "outputs": [
    {
     "name": "stdout",
     "output_type": "stream",
     "text": [
      "1100100\n"
     ]
    }
   ],
   "source": [
    "deci2bin(100)"
   ]
  },
  {
   "cell_type": "code",
   "execution_count": null,
   "metadata": {},
   "outputs": [],
   "source": []
  }
 ],
 "metadata": {
  "kernelspec": {
   "display_name": "Python 3",
   "language": "python",
   "name": "python3"
  },
  "language_info": {
   "codemirror_mode": {
    "name": "ipython",
    "version": 3
   },
   "file_extension": ".py",
   "mimetype": "text/x-python",
   "name": "python",
   "nbconvert_exporter": "python",
   "pygments_lexer": "ipython3",
   "version": "3.7.0"
  }
 },
 "nbformat": 4,
 "nbformat_minor": 5
}
