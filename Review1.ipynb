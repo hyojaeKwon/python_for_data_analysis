{
 "cells": [
  {
   "cell_type": "markdown",
   "metadata": {},
   "source": [
    "1. variable naming in python"
   ]
  },
  {
   "cell_type": "markdown",
   "metadata": {},
   "source": [
    "- python variable can save any type. So, to avoid confilct, you should use meaningful name\n",
    "- start with a letter or the underscore character"
   ]
  },
  {
   "cell_type": "code",
   "execution_count": 3,
   "metadata": {},
   "outputs": [],
   "source": [
    "str1 = \"Hello world\"\n",
    "number = 33"
   ]
  },
  {
   "cell_type": "markdown",
   "metadata": {},
   "source": [
    "- number datatype"
   ]
  },
  {
   "cell_type": "code",
   "execution_count": 4,
   "metadata": {},
   "outputs": [],
   "source": [
    "integer = 12\n",
    "realNumber = 0.12"
   ]
  },
  {
   "cell_type": "code",
   "execution_count": 5,
   "metadata": {},
   "outputs": [
    {
     "name": "stdout",
     "output_type": "stream",
     "text": [
      "12.12\n",
      "11.88\n",
      "1.44\n",
      "100.0\n",
      "5\n",
      "1\n",
      "35831808\n"
     ]
    }
   ],
   "source": [
    "print(integer+realNumber)\n",
    "print(integer-realNumber)\n",
    "print(integer*realNumber)\n",
    "print(integer/realNumber)\n",
    "\n",
    "#division\n",
    "integer2 = 7\n",
    "print(integer%integer2)\n",
    "print(integer//integer)\n",
    "\n",
    "#power\n",
    "print(integer**integer2)"
   ]
  },
  {
   "cell_type": "markdown",
   "metadata": {},
   "source": [
    "- String datatype"
   ]
  },
  {
   "cell_type": "code",
   "execution_count": 8,
   "metadata": {},
   "outputs": [
    {
     "name": "stdout",
     "output_type": "stream",
     "text": [
      "HelloHi\n",
      "HiHiHi\n"
     ]
    }
   ],
   "source": [
    "string1 = \"Hello\"\n",
    "string2 = \"Hi\"\n",
    "\n",
    "print(string1 + string2)\n",
    "print(string2*3)"
   ]
  },
  {
   "cell_type": "code",
   "execution_count": 9,
   "metadata": {},
   "outputs": [
    {
     "name": "stdout",
     "output_type": "stream",
     "text": [
      "2\n"
     ]
    }
   ],
   "source": [
    "#length\n",
    "print(len(string2))"
   ]
  },
  {
   "cell_type": "code",
   "execution_count": 13,
   "metadata": {},
   "outputs": [
    {
     "name": "stdout",
     "output_type": "stream",
     "text": [
      "H o Hell\n"
     ]
    }
   ],
   "source": [
    "#Slicing\n",
    "print(string1[0], string1[-1], string1[0:4])"
   ]
  },
  {
   "cell_type": "markdown",
   "metadata": {},
   "source": [
    "- datatype collision"
   ]
  },
  {
   "cell_type": "code",
   "execution_count": 14,
   "metadata": {},
   "outputs": [
    {
     "ename": "TypeError",
     "evalue": "can only concatenate str (not \"int\") to str",
     "output_type": "error",
     "traceback": [
      "\u001b[1;31m---------------------------------------------------------------------------\u001b[0m",
      "\u001b[1;31mTypeError\u001b[0m                                 Traceback (most recent call last)",
      "\u001b[1;32m<ipython-input-14-36d91c511809>\u001b[0m in \u001b[0;36m<module>\u001b[1;34m()\u001b[0m\n\u001b[0;32m      1\u001b[0m \u001b[0mstr1\u001b[0m \u001b[1;33m=\u001b[0m \u001b[1;34m'10'\u001b[0m\u001b[1;33m\u001b[0m\u001b[0m\n\u001b[0;32m      2\u001b[0m \u001b[0mint1\u001b[0m \u001b[1;33m=\u001b[0m \u001b[1;36m5\u001b[0m\u001b[1;33m\u001b[0m\u001b[0m\n\u001b[1;32m----> 3\u001b[1;33m \u001b[0mb\u001b[0m \u001b[1;33m=\u001b[0m \u001b[0mstr1\u001b[0m \u001b[1;33m+\u001b[0m \u001b[0mint1\u001b[0m \u001b[1;31m#Syntax Error!\u001b[0m\u001b[1;33m\u001b[0m\u001b[0m\n\u001b[0m",
      "\u001b[1;31mTypeError\u001b[0m: can only concatenate str (not \"int\") to str"
     ]
    }
   ],
   "source": [
    "str1 = '10' \n",
    "int1 = 5\n",
    "b = str1 + int1 #Syntax Error! "
   ]
  },
  {
   "cell_type": "markdown",
   "metadata": {},
   "source": [
    "- Bool"
   ]
  },
  {
   "cell_type": "code",
   "execution_count": 15,
   "metadata": {},
   "outputs": [
    {
     "name": "stdout",
     "output_type": "stream",
     "text": [
      "True\n",
      "False\n",
      "True\n",
      "False\n"
     ]
    }
   ],
   "source": [
    "print(1 == 1)# True\n",
    "print(1 != 1) # False\n",
    "print(2 > 1) # True\n",
    "print(2 < 1) # False\n"
   ]
  },
  {
   "cell_type": "markdown",
   "metadata": {},
   "source": [
    "- <b>List</b>"
   ]
  },
  {
   "cell_type": "code",
   "execution_count": 16,
   "metadata": {},
   "outputs": [],
   "source": [
    "list1 = [1, 2, 3, 4, 5]\n",
    "list2 = [1, 2, ['Life', 'is']] #list in list\n",
    "list3 = ['Hello' , 'world' ]"
   ]
  },
  {
   "cell_type": "code",
   "execution_count": 17,
   "metadata": {},
   "outputs": [
    {
     "name": "stdout",
     "output_type": "stream",
     "text": [
      "[1, 2, 3, 4, 5, 'Hello', 'world']\n",
      "['Hello', 'world', 'Hello', 'world', 'Hello', 'world']\n"
     ]
    }
   ],
   "source": [
    "print(list1 + list3)\n",
    "print(list3*3) "
   ]
  },
  {
   "cell_type": "code",
   "execution_count": 18,
   "metadata": {},
   "outputs": [
    {
     "name": "stdout",
     "output_type": "stream",
     "text": [
      "1\n",
      "['Life', 'is']\n",
      "Life\n"
     ]
    }
   ],
   "source": [
    "#indexing\n",
    "print(list1[0]) # 1\n",
    "print(list2[2]) # ['Life', 'is']\n",
    "print(list2[-1][0]) # 'Life'"
   ]
  },
  {
   "cell_type": "markdown",
   "metadata": {},
   "source": [
    "- list function"
   ]
  },
  {
   "cell_type": "code",
   "execution_count": 1,
   "metadata": {},
   "outputs": [
    {
     "name": "stdout",
     "output_type": "stream",
     "text": [
      "[2, 1, 3, 4]\n"
     ]
    }
   ],
   "source": [
    "lis = [2,1,3]\n",
    "lis.append(4)\n",
    "print(lis)"
   ]
  },
  {
   "cell_type": "code",
   "execution_count": 22,
   "metadata": {},
   "outputs": [
    {
     "name": "stdout",
     "output_type": "stream",
     "text": [
      "Sorted List:  [1, 2, 3, 4]\n",
      "Reverse order :  [4, 3, 2, 1]\n"
     ]
    }
   ],
   "source": [
    "lis.sort()\n",
    "print(\"Sorted List: \", lis)\n",
    "lis.reverse()\n",
    "print(\"Reverse order : \", lis)"
   ]
  },
  {
   "cell_type": "code",
   "execution_count": 23,
   "metadata": {},
   "outputs": [
    {
     "name": "stdout",
     "output_type": "stream",
     "text": [
      "[5, 4, 3, 2, 1]\n"
     ]
    }
   ],
   "source": [
    "lis.insert(0,5) # insert(index, value)\n",
    "print(lis)"
   ]
  },
  {
   "cell_type": "code",
   "execution_count": 24,
   "metadata": {},
   "outputs": [
    {
     "name": "stdout",
     "output_type": "stream",
     "text": [
      "[5, 4, 3, 1]\n",
      "[5, 4, 3]\n"
     ]
    }
   ],
   "source": [
    "lis.remove(2)\n",
    "print(lis)\n",
    "\n",
    "lis.pop()\n",
    "print(lis)"
   ]
  },
  {
   "cell_type": "markdown",
   "metadata": {},
   "source": [
    "Tuple\n",
    "Simillar with list, but there is a difference!\n",
    "\n",
    "- We use [] in list, but the tuple uses ()\n",
    "- We <b>cannot change</b> the value of tuple"
   ]
  },
  {
   "cell_type": "code",
   "execution_count": 26,
   "metadata": {},
   "outputs": [],
   "source": [
    "t1 = ()\n",
    "t2 = (1,)\n",
    "t3 = (1, 2, 3)\n",
    "t4 = 1, 2, 3\n",
    "t5 = ('a', 'b', ('ab', 'cd'))"
   ]
  },
  {
   "cell_type": "markdown",
   "metadata": {},
   "source": [
    "7.Dictionary (★)\n",
    "\n",
    "Associative array or Hash. → Key & Value\n",
    "\n",
    "dic = {Key1:Value1, Key2:Value2, Key3:Value3, ...}\n",
    "\n",
    "- the key does not change. We should set unique key value!\n",
    "\n",
    "    → only one key to the value."
   ]
  },
  {
   "cell_type": "code",
   "execution_count": 27,
   "metadata": {},
   "outputs": [
    {
     "name": "stdout",
     "output_type": "stream",
     "text": [
      "{'name': 'pey', 'birth': '0526'}\n",
      "{'name': 'pey', 'birth': '0526', 3: [1, 2]}\n",
      "{'name': 'pey', 'birth': '0526', 3: [1, 2], 'Education': {'University': 'Gist', 'Major': 'Computer Science'}}\n"
     ]
    }
   ],
   "source": [
    "dic = {'name':'pey'}\n",
    "dic['birth'] = '0526' \n",
    "print(dic)\n",
    "\n",
    "dic[3] = [1,2]\n",
    "print(dic) #List in dictionary\n",
    "\n",
    "dic['Education'] = {\n",
    "    \"University\" : \"Gist\", \n",
    "    \"Major\":\"Computer Science\"\n",
    "}\n",
    "print(dic) # dictionary in  dictionary"
   ]
  },
  {
   "cell_type": "code",
   "execution_count": 28,
   "metadata": {},
   "outputs": [
    {
     "name": "stdout",
     "output_type": "stream",
     "text": [
      "{'name': 'pey', 'birth': '0526', 'Education': {'University': 'Gist', 'Major': 'Computer Science'}}\n"
     ]
    }
   ],
   "source": [
    "del dic[3]\n",
    "print(dic)"
   ]
  },
  {
   "cell_type": "code",
   "execution_count": 29,
   "metadata": {},
   "outputs": [
    {
     "data": {
      "text/plain": [
       "dict_keys(['name', 'birth', 'Education'])"
      ]
     },
     "execution_count": 29,
     "metadata": {},
     "output_type": "execute_result"
    }
   ],
   "source": [
    "dic.keys()"
   ]
  },
  {
   "cell_type": "code",
   "execution_count": 30,
   "metadata": {},
   "outputs": [
    {
     "data": {
      "text/plain": [
       "dict_values(['pey', '0526', {'University': 'Gist', 'Major': 'Computer Science'}])"
      ]
     },
     "execution_count": 30,
     "metadata": {},
     "output_type": "execute_result"
    }
   ],
   "source": [
    "dic.values()"
   ]
  },
  {
   "cell_type": "code",
   "execution_count": 31,
   "metadata": {},
   "outputs": [
    {
     "data": {
      "text/plain": [
       "{'University': 'Gist', 'Major': 'Computer Science'}"
      ]
     },
     "execution_count": 31,
     "metadata": {},
     "output_type": "execute_result"
    }
   ],
   "source": [
    "dic.get('Education') "
   ]
  },
  {
   "cell_type": "code",
   "execution_count": 33,
   "metadata": {},
   "outputs": [
    {
     "data": {
      "text/plain": [
       "True"
      ]
     },
     "execution_count": 33,
     "metadata": {},
     "output_type": "execute_result"
    }
   ],
   "source": [
    "'contry' in dic  #False\n",
    "'Education' in dic"
   ]
  },
  {
   "cell_type": "code",
   "execution_count": 34,
   "metadata": {},
   "outputs": [],
   "source": [
    "dic.clear()"
   ]
  },
  {
   "cell_type": "code",
   "execution_count": 35,
   "metadata": {},
   "outputs": [
    {
     "data": {
      "text/plain": [
       "{}"
      ]
     },
     "execution_count": 35,
     "metadata": {},
     "output_type": "execute_result"
    }
   ],
   "source": [
    "dic"
   ]
  },
  {
   "cell_type": "markdown",
   "metadata": {},
   "source": [
    "- <b>Control Statement</b>"
   ]
  },
  {
   "cell_type": "code",
   "execution_count": 36,
   "metadata": {},
   "outputs": [],
   "source": [
    "a = 10 > 5 #True\n",
    "b = 10 < 5 #False"
   ]
  },
  {
   "cell_type": "code",
   "execution_count": 37,
   "metadata": {},
   "outputs": [
    {
     "data": {
      "text/plain": [
       "False"
      ]
     },
     "execution_count": 37,
     "metadata": {},
     "output_type": "execute_result"
    }
   ],
   "source": [
    "a and b"
   ]
  },
  {
   "cell_type": "code",
   "execution_count": 38,
   "metadata": {},
   "outputs": [
    {
     "data": {
      "text/plain": [
       "True"
      ]
     },
     "execution_count": 38,
     "metadata": {},
     "output_type": "execute_result"
    }
   ],
   "source": [
    "a or b"
   ]
  },
  {
   "cell_type": "markdown",
   "metadata": {},
   "source": [
    "- if"
   ]
  },
  {
   "cell_type": "code",
   "execution_count": 39,
   "metadata": {},
   "outputs": [],
   "source": [
    "BMI = 10"
   ]
  },
  {
   "cell_type": "code",
   "execution_count": 40,
   "metadata": {},
   "outputs": [
    {
     "name": "stdout",
     "output_type": "stream",
     "text": [
      "You are normal\n"
     ]
    }
   ],
   "source": [
    "if BMI>=30:\n",
    "    print(\"You are obesity\")\n",
    "elif BMI>=25:\n",
    "    print(\"You are overweight\")\n",
    "else:\n",
    "    print(\"You are normal\")"
   ]
  },
  {
   "cell_type": "markdown",
   "metadata": {},
   "source": [
    "- try / except"
   ]
  },
  {
   "cell_type": "code",
   "execution_count": 42,
   "metadata": {},
   "outputs": [
    {
     "name": "stdout",
     "output_type": "stream",
     "text": [
      "please input the number:0\n",
      "do not divide with zero\n"
     ]
    }
   ],
   "source": [
    "try:\n",
    "    x=int(input(\"please input the number:\"))\n",
    "    y=10/x\n",
    "    print(y)\n",
    "except ZeroDivisionError:\n",
    "    print(\"do not divide with zero\")\n",
    "except ValueError:\n",
    "    print(\"do not input the character type\")"
   ]
  },
  {
   "cell_type": "code",
   "execution_count": 43,
   "metadata": {},
   "outputs": [
    {
     "name": "stdout",
     "output_type": "stream",
     "text": [
      "please input the number:hello\n",
      "do not input the character type\n"
     ]
    }
   ],
   "source": [
    "try:\n",
    "    x=int(input(\"please input the number:\"))\n",
    "    y=10/x\n",
    "    print(y)\n",
    "except ZeroDivisionError:\n",
    "    print(\"do not divide with zero\")\n",
    "except ValueError:\n",
    "    print(\"do not input the character type\")"
   ]
  },
  {
   "cell_type": "markdown",
   "metadata": {},
   "source": [
    "- for loop"
   ]
  },
  {
   "cell_type": "code",
   "execution_count": 44,
   "metadata": {},
   "outputs": [
    {
     "name": "stdout",
     "output_type": "stream",
     "text": [
      "45\n"
     ]
    }
   ],
   "source": [
    "sum = 0\n",
    "for x in range(0, 10):\n",
    "    sum = sum + x\n",
    "print(sum)"
   ]
  },
  {
   "cell_type": "code",
   "execution_count": 45,
   "metadata": {},
   "outputs": [
    {
     "name": "stdout",
     "output_type": "stream",
     "text": [
      "**********\n",
      "**********\n",
      "**********\n",
      "**********\n",
      "**********\n"
     ]
    }
   ],
   "source": [
    "for y in range(5):\n",
    "    for x in range(10):\n",
    "        print(\"*\", end=\"\")\n",
    "    print()"
   ]
  },
  {
   "cell_type": "markdown",
   "metadata": {},
   "source": [
    "- while"
   ]
  },
  {
   "cell_type": "code",
   "execution_count": 46,
   "metadata": {},
   "outputs": [
    {
     "name": "stdout",
     "output_type": "stream",
     "text": [
      "sum= 55\n"
     ]
    }
   ],
   "source": [
    "n = 1\n",
    "sum = 0\n",
    "while n<=10:\n",
    "    sum = sum + n\n",
    "    n = n + 1\n",
    "print(\"sum=\", sum)"
   ]
  },
  {
   "cell_type": "markdown",
   "metadata": {},
   "source": [
    "- <b>function</b>"
   ]
  },
  {
   "cell_type": "code",
   "execution_count": 47,
   "metadata": {},
   "outputs": [
    {
     "name": "stdout",
     "output_type": "stream",
     "text": [
      "100\n"
     ]
    }
   ],
   "source": [
    "def power(x,y):\n",
    "    result=1\n",
    "    for i in range(y):\n",
    "        result=result*x\n",
    "    return result\n",
    "print(power(10,2))"
   ]
  },
  {
   "cell_type": "code",
   "execution_count": 48,
   "metadata": {},
   "outputs": [
    {
     "name": "stdout",
     "output_type": "stream",
     "text": [
      "Hello? Songju,how are you?\n"
     ]
    }
   ],
   "source": [
    "def greet(name, msg=\"how are you?\"):\n",
    "    print(\"Hello?\", name+','+msg)\n",
    "    return\n",
    "greet(\"Songju\")"
   ]
  },
  {
   "cell_type": "code",
   "execution_count": 49,
   "metadata": {},
   "outputs": [],
   "source": [
    "#global variable in funtion"
   ]
  },
  {
   "cell_type": "code",
   "execution_count": 50,
   "metadata": {},
   "outputs": [
    {
     "name": "stdout",
     "output_type": "stream",
     "text": [
      "outside(before function): s-> I love apple!\n",
      "inside(received): s-> I love apple!\n",
      "inside(modified): s-> I love banana!\n",
      "outside(after function): s-> I love banana!\n"
     ]
    }
   ],
   "source": [
    "def sub():\n",
    "    global s\n",
    "    print(\"inside(received): s->\", s)\n",
    "    s=\"I love banana!\"\n",
    "    print(\"inside(modified): s->\", s)\n",
    "    \n",
    "s=\"I love apple!\"\n",
    "print(\"outside(before function): s->\", s)\n",
    "sub()\n",
    "print(\"outside(after function): s->\", s)"
   ]
  },
  {
   "cell_type": "markdown",
   "metadata": {},
   "source": [
    "- <b>Class</b>"
   ]
  },
  {
   "cell_type": "code",
   "execution_count": 51,
   "metadata": {},
   "outputs": [],
   "source": [
    "class car:\n",
    "    def go(self):\n",
    "        print(\"Go faster!!!\")"
   ]
  },
  {
   "cell_type": "code",
   "execution_count": 52,
   "metadata": {},
   "outputs": [
    {
     "name": "stdout",
     "output_type": "stream",
     "text": [
      "Go faster!!!\n",
      "Go faster!!!\n"
     ]
    }
   ],
   "source": [
    "yellow_car = car()\n",
    "red_car = car()\n",
    "\n",
    "\n",
    "red_car.go()\n",
    "yellow_car.go()"
   ]
  },
  {
   "cell_type": "markdown",
   "metadata": {},
   "source": [
    "- Constructor"
   ]
  },
  {
   "cell_type": "code",
   "execution_count": 53,
   "metadata": {},
   "outputs": [],
   "source": [
    "class human:\n",
    "    def __init__(self,age):\n",
    "       self.age = age\n",
    "\n",
    "    def myAge(self):\n",
    "        print('I am',self.age,'years old')"
   ]
  },
  {
   "cell_type": "code",
   "execution_count": 54,
   "metadata": {},
   "outputs": [
    {
     "name": "stdout",
     "output_type": "stream",
     "text": [
      "I am 15 years old\n",
      "I am 20 years old\n"
     ]
    }
   ],
   "source": [
    "# make an amy instance which is 15 years old\n",
    "amy = human(15)\n",
    "# make an sam instance which is 20 years old\n",
    "sam = human(20)\n",
    "\n",
    "amy.myAge()\n",
    "sam.myAge()"
   ]
  },
  {
   "cell_type": "markdown",
   "metadata": {},
   "source": [
    "- <b>Method define</b>"
   ]
  },
  {
   "cell_type": "code",
   "execution_count": 55,
   "metadata": {},
   "outputs": [],
   "source": [
    "class pokemon:\n",
    "    \n",
    "    \n",
    "    def __init__(self,name,level,skill):\n",
    "        self.name = name\n",
    "        self.level = level\n",
    "        self.skill = skill\n",
    "    \n",
    "    def attack(self):\n",
    "        print(self.skill,'!!!')\n",
    "    \n",
    "    def pokemonInfo(self):\n",
    "        print('The pokemon is',self.name, \", It's level is\",self.level)\n",
    "\n",
    "#the first parameter should be \"self\""
   ]
  },
  {
   "cell_type": "code",
   "execution_count": 56,
   "metadata": {},
   "outputs": [
    {
     "name": "stdout",
     "output_type": "stream",
     "text": [
      "Tackle !!!\n",
      "The pokemon is pikachu , It's level is 100\n"
     ]
    }
   ],
   "source": [
    "pikachu = pokemon('pikachu',100,'Tackle')\n",
    "pikachu.attack()\n",
    "pikachu.pokemonInfo()"
   ]
  },
  {
   "cell_type": "code",
   "execution_count": null,
   "metadata": {},
   "outputs": [],
   "source": []
  }
 ],
 "metadata": {
  "kernelspec": {
   "display_name": "Python 3",
   "language": "python",
   "name": "python3"
  },
  "language_info": {
   "codemirror_mode": {
    "name": "ipython",
    "version": 3
   },
   "file_extension": ".py",
   "mimetype": "text/x-python",
   "name": "python",
   "nbconvert_exporter": "python",
   "pygments_lexer": "ipython3",
   "version": "3.7.0"
  }
 },
 "nbformat": 4,
 "nbformat_minor": 2
}
