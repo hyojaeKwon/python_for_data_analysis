{
 "cells": [
  {
   "cell_type": "markdown",
   "metadata": {},
   "source": [
    "<h2>USE a Class</h2>"
   ]
  },
  {
   "cell_type": "markdown",
   "metadata": {},
   "source": [
    " Example Code 1"
   ]
  },
  {
   "cell_type": "code",
   "execution_count": 1,
   "metadata": {},
   "outputs": [],
   "source": [
    "class car:\n",
    "    def go(self):\n",
    "        print(\"Go faster!!!\")"
   ]
  },
  {
   "cell_type": "code",
   "execution_count": 2,
   "metadata": {},
   "outputs": [
    {
     "name": "stdout",
     "output_type": "stream",
     "text": [
      "Go faster!!!\n",
      "Go faster!!!\n"
     ]
    }
   ],
   "source": [
    "yellow_car = car()\n",
    "red_car = car()\n",
    "\n",
    "\n",
    "red_car.go()\n",
    "yellow_car.go()"
   ]
  },
  {
   "cell_type": "markdown",
   "metadata": {},
   "source": [
    "#Example Code 2"
   ]
  },
  {
   "cell_type": "code",
   "execution_count": 3,
   "metadata": {},
   "outputs": [],
   "source": [
    "class freshmen:\n",
    "    grade=1\n",
    "    def myGrade(self):\n",
    "        print(\"I'm\" ,self.grade ,\"grade in this school\")"
   ]
  },
  {
   "cell_type": "code",
   "execution_count": 4,
   "metadata": {},
   "outputs": [
    {
     "name": "stdout",
     "output_type": "stream",
     "text": [
      "How Old are you?\n",
      "I'm 1 grade in this school\n"
     ]
    }
   ],
   "source": [
    "student_kim=freshmen()\n",
    "print(\"How Old are you?\")\n",
    "student_kim.myGrade()"
   ]
  },
  {
   "cell_type": "markdown",
   "metadata": {},
   "source": [
    "<h2>constructor Example</h2>"
   ]
  },
  {
   "cell_type": "markdown",
   "metadata": {},
   "source": [
    "#Example 1"
   ]
  },
  {
   "cell_type": "code",
   "execution_count": 6,
   "metadata": {},
   "outputs": [],
   "source": [
    "class human:\n",
    "    def __init__(self,age):\n",
    "       self.age = age\n",
    "\n",
    "    def myAge(self):\n",
    "        print('I am',self.age,'years old')"
   ]
  },
  {
   "cell_type": "code",
   "execution_count": 7,
   "metadata": {},
   "outputs": [
    {
     "name": "stdout",
     "output_type": "stream",
     "text": [
      "I am 15 years old\n",
      "I am 20 years old\n"
     ]
    }
   ],
   "source": [
    "# make an amy instance which is 15 years old\n",
    "amy = human(15)\n",
    "# make an sam instance which is 20 years old\n",
    "sam = human(20)\n",
    "\n",
    "amy.myAge()\n",
    "sam.myAge()"
   ]
  },
  {
   "cell_type": "markdown",
   "metadata": {},
   "source": [
    "#Example 2"
   ]
  },
  {
   "cell_type": "code",
   "execution_count": 8,
   "metadata": {},
   "outputs": [],
   "source": [
    "class airplane:\n",
    "    \n",
    "    def __init__(self,dest):\n",
    "        self.dest = dest\n",
    "    \n",
    "    def whereDest(self):\n",
    "        print(\"The final destnation is\",self.dest)"
   ]
  },
  {
   "cell_type": "code",
   "execution_count": 9,
   "metadata": {},
   "outputs": [
    {
     "name": "stdout",
     "output_type": "stream",
     "text": [
      "The final destnation is paris\n"
     ]
    }
   ],
   "source": [
    "koreanAir = airplane('paris')\n",
    "koreanAir.whereDest()"
   ]
  },
  {
   "cell_type": "markdown",
   "metadata": {},
   "source": [
    "<h2>CONSTRUCTOR example</h2>"
   ]
  },
  {
   "cell_type": "markdown",
   "metadata": {},
   "source": [
    "#Example 1"
   ]
  },
  {
   "cell_type": "code",
   "execution_count": 13,
   "metadata": {},
   "outputs": [],
   "source": [
    "class human:\n",
    "    def __init__(self,age):\n",
    "       self.age = age\n",
    "\n",
    "    def myAge(self):\n",
    "        print('I am',self.age,'years old')"
   ]
  },
  {
   "cell_type": "code",
   "execution_count": 12,
   "metadata": {},
   "outputs": [
    {
     "name": "stdout",
     "output_type": "stream",
     "text": [
      "I am 15 years old\n",
      "I am 20 years old\n"
     ]
    }
   ],
   "source": [
    "# make an amy instance which is 15 years old\n",
    "amy = human(15)\n",
    "# make an sam instance which is 20 years old\n",
    "sam = human(20)\n",
    "\n",
    "amy.myAge()\n",
    "sam.myAge()"
   ]
  },
  {
   "cell_type": "markdown",
   "metadata": {},
   "source": [
    "#Example 2"
   ]
  },
  {
   "cell_type": "code",
   "execution_count": 14,
   "metadata": {},
   "outputs": [],
   "source": [
    "class airplane:\n",
    "    \n",
    "    def __init__(self,dest):\n",
    "        self.dest = dest\n",
    "    \n",
    "    def whereDest(self):\n",
    "        print(\"The final destnation is\",self.dest)"
   ]
  },
  {
   "cell_type": "code",
   "execution_count": 15,
   "metadata": {},
   "outputs": [
    {
     "name": "stdout",
     "output_type": "stream",
     "text": [
      "The final destnation is paris\n"
     ]
    }
   ],
   "source": [
    "koreanAir = airplane('paris')\n",
    "koreanAir.whereDest()"
   ]
  },
  {
   "cell_type": "markdown",
   "metadata": {},
   "source": [
    "<h2>METHOD DEFINE example</h2>"
   ]
  },
  {
   "cell_type": "code",
   "execution_count": 17,
   "metadata": {},
   "outputs": [],
   "source": [
    "class pokemon:\n",
    "    \n",
    "    \n",
    "    def __init__(self,name,level,skill):\n",
    "        self.name = name\n",
    "        self.level = level\n",
    "        self.skill = skill\n",
    "    \n",
    "    def attack(self):\n",
    "        print(self.skill,'!!!')\n",
    "    \n",
    "    def pokemonInfo(self):\n",
    "        print('The pokemon is',self.name, \", It's level is\",self.level)\n",
    "\n",
    "#the first parameter should be \"self\""
   ]
  },
  {
   "cell_type": "code",
   "execution_count": 18,
   "metadata": {},
   "outputs": [
    {
     "name": "stdout",
     "output_type": "stream",
     "text": [
      "Tackle !!!\n",
      "The pokemon is pikachu , It's level is 100\n"
     ]
    }
   ],
   "source": [
    "pikachu = pokemon('pikachu',100,'Tackle')\n",
    "pikachu.attack()\n",
    "pikachu.pokemonInfo()"
   ]
  },
  {
   "cell_type": "markdown",
   "metadata": {},
   "source": [
    "Example 2"
   ]
  },
  {
   "cell_type": "code",
   "execution_count": 19,
   "metadata": {},
   "outputs": [],
   "source": [
    "class student:\n",
    "    def __init__(self,grade):\n",
    "        self.grade = grade\n",
    "    \n",
    "    def setGrade(self,grade):\n",
    "        self.grade = grade\n",
    "    \n",
    "    def getGrade(self):\n",
    "        print(self.grade)"
   ]
  },
  {
   "cell_type": "code",
   "execution_count": 20,
   "metadata": {},
   "outputs": [
    {
     "name": "stdout",
     "output_type": "stream",
     "text": [
      "A+\n",
      "A0\n",
      "A+++++++\n"
     ]
    }
   ],
   "source": [
    "minsu = student('A+')\n",
    "minsu.getGrade()\n",
    "\n",
    "minsu.setGrade('A0')\n",
    "minsu.getGrade()\n",
    "\n",
    "minsu.setGrade('A+++++++')\n",
    "minsu.getGrade()"
   ]
  },
  {
   "cell_type": "markdown",
   "metadata": {},
   "source": [
    "<h2>ACCESS SPECIFIER example</h2>"
   ]
  },
  {
   "cell_type": "code",
   "execution_count": 21,
   "metadata": {},
   "outputs": [],
   "source": [
    "class person:\n",
    "    person_public_key = 'qwer1234'\n",
    "    _person_private_key = 'abcdefg'\n",
    "    \n",
    "    def __init__(self,name):\n",
    "        self.name = name\n",
    "    \n",
    "\n",
    "    "
   ]
  },
  {
   "cell_type": "code",
   "execution_count": 22,
   "metadata": {},
   "outputs": [
    {
     "data": {
      "text/plain": [
       "'qwer1234'"
      ]
     },
     "execution_count": 22,
     "metadata": {},
     "output_type": "execute_result"
    }
   ],
   "source": [
    "person1 = person('ham')\n",
    "\n",
    "person1.person_public_key"
   ]
  },
  {
   "cell_type": "code",
   "execution_count": 23,
   "metadata": {},
   "outputs": [
    {
     "ename": "AttributeError",
     "evalue": "'person' object has no attribute '__person_private_key'",
     "output_type": "error",
     "traceback": [
      "\u001b[1;31m---------------------------------------------------------------------------\u001b[0m",
      "\u001b[1;31mAttributeError\u001b[0m                            Traceback (most recent call last)",
      "\u001b[1;32m<ipython-input-23-83d806ef488d>\u001b[0m in \u001b[0;36m<module>\u001b[1;34m\u001b[0m\n\u001b[1;32m----> 1\u001b[1;33m \u001b[0mperson1\u001b[0m\u001b[1;33m.\u001b[0m\u001b[0m__person_private_key\u001b[0m\u001b[1;33m\u001b[0m\u001b[1;33m\u001b[0m\u001b[0m\n\u001b[0m",
      "\u001b[1;31mAttributeError\u001b[0m: 'person' object has no attribute '__person_private_key'"
     ]
    }
   ],
   "source": [
    "person1.__person_private_key"
   ]
  }
 ],
 "metadata": {
  "kernelspec": {
   "display_name": "Python 3",
   "language": "python",
   "name": "python3"
  },
  "language_info": {
   "codemirror_mode": {
    "name": "ipython",
    "version": 3
   },
   "file_extension": ".py",
   "mimetype": "text/x-python",
   "name": "python",
   "nbconvert_exporter": "python",
   "pygments_lexer": "ipython3",
   "version": "3.7.0"
  }
 },
 "nbformat": 4,
 "nbformat_minor": 5
}
