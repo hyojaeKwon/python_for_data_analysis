{
 "cells": [
  {
   "cell_type": "code",
   "execution_count": 18,
   "metadata": {},
   "outputs": [],
   "source": [
    "class pokemon:\n",
    "    \n",
    "    \n",
    "    def __init__(self,name,level,skill):\n",
    "        self.name = name\n",
    "        self.level = level\n",
    "        self.skill = skill\n",
    "    \n",
    "    def attack(self):\n",
    "        print(self.skill,'!!!')\n",
    "    \n",
    "    def pokemonInfo(self):\n",
    "        print('The pokemon is',self.name, \", It's level is\",self.level)\n",
    "\n",
    "#the first parameter should be \"self\""
   ]
  },
  {
   "cell_type": "code",
   "execution_count": 19,
   "metadata": {},
   "outputs": [
    {
     "name": "stdout",
     "output_type": "stream",
     "text": [
      "Tackle !!!\n",
      "The pokemon is pikachu , It's level is 100\n"
     ]
    }
   ],
   "source": [
    "pikachu = pokemon('pikachu',100,'Tackle')\n",
    "pikachu.attack()\n",
    "pikachu.pokemonInfo()"
   ]
  },
  {
   "cell_type": "code",
   "execution_count": 20,
   "metadata": {},
   "outputs": [],
   "source": [
    "# Example 2"
   ]
  },
  {
   "cell_type": "code",
   "execution_count": 23,
   "metadata": {},
   "outputs": [],
   "source": [
    "class student:\n",
    "    def __init__(self,grade):\n",
    "        self.grade = grade\n",
    "    \n",
    "    def setGrade(self,grade):\n",
    "        self.grade = grade\n",
    "    \n",
    "    def getGrade(self):\n",
    "        print(self.grade)"
   ]
  },
  {
   "cell_type": "code",
   "execution_count": 24,
   "metadata": {},
   "outputs": [
    {
     "name": "stdout",
     "output_type": "stream",
     "text": [
      "A+\n",
      "A0\n",
      "A+++++++\n"
     ]
    }
   ],
   "source": [
    "minsu = student('A+')\n",
    "minsu.getGrade()\n",
    "\n",
    "minsu.setGrade('A0')\n",
    "minsu.getGrade()\n",
    "\n",
    "minsu.setGrade('A+++++++')\n",
    "minsu.getGrade()"
   ]
  },
  {
   "cell_type": "code",
   "execution_count": null,
   "metadata": {},
   "outputs": [],
   "source": []
  }
 ],
 "metadata": {
  "kernelspec": {
   "display_name": "Python 3",
   "language": "python",
   "name": "python3"
  },
  "language_info": {
   "codemirror_mode": {
    "name": "ipython",
    "version": 3
   },
   "file_extension": ".py",
   "mimetype": "text/x-python",
   "name": "python",
   "nbconvert_exporter": "python",
   "pygments_lexer": "ipython3",
   "version": "3.7.0"
  }
 },
 "nbformat": 4,
 "nbformat_minor": 2
}
